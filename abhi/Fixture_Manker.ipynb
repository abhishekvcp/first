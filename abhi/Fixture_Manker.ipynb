{
 "cells": [
  {
   "cell_type": "code",
   "execution_count": null,
   "metadata": {},
   "outputs": [
    {
     "name": "stdout",
     "output_type": "stream",
     "text": [
      "1 Exit | 2 Add | 3 Remove | 4: Fixture | 5 Clear| 6 Display | 7 Demo 4\n",
      "1 Singles | 2 Doubles :5\n",
      "Enter either 1 or 2\n",
      "1 Exit | 2 Add | 3 Remove | 4: Fixture | 5 Clear| 6 Display | 7 Demo 6\n",
      "Display current players :\n",
      "\n",
      "['SHAIK', 'AKSHAY', 'SRAVAN', 'ABHISHEK', 'CHELAPPAN', 'NAIK', 'FRANCIS', 'BIJESH']\n",
      "1 Exit | 2 Add | 3 Remove | 4: Fixture | 5 Clear| 6 Display | 7 Demo 4\n",
      "1 Singles | 2 Doubles :2\n",
      "Creating Doubles Fixure\n",
      "......Create fixture Total 8 players......\n",
      " Game 1 => : [ FRANCIS + NAIK ] VS [ SRAVAN + ABHISHEK ] \n",
      " Game 2 => : [ AKSHAY + SHAIK ] VS [ BIJESH + CHELAPPAN ] \n"
     ]
    }
   ],
   "source": [
    "#Owner Abhishek Panakkaran\n",
    "\n",
    "import pandas as pd\n",
    "import numpy as np\n",
    "import matplotlib.pyplot as plt\n",
    "import seaborn as sns\n",
    "import random\n",
    "\n",
    "def create_fix(list1,sod):\n",
    "    total_players = len(list1)\n",
    "    print(\"......Create fixture Total {} players......\".format(total_players ))\n",
    "    if sod == 1:\n",
    "        for i in range( int(total_players / 2) ):\n",
    "            #print(i)\n",
    "            one = random.choice(list1)\n",
    "            list1.remove(one)\n",
    "            two = random.choice(list1)\n",
    "            list1.remove(two)\n",
    "            print(\"Game {} is between {} and {}\".format(i + 1,one,two))\n",
    "    elif sod == 2:\n",
    "        for i in range( int(total_players / 4) ):\n",
    "            #print(i)\n",
    "            one = random.choice(list1)\n",
    "            list1.remove(one)\n",
    "            two = random.choice(list1)\n",
    "            list1.remove(two)\n",
    "            three= random.choice(list1)\n",
    "            list1.remove(three)\n",
    "            four= random.choice(list1)\n",
    "            list1.remove(four)\n",
    "            print(\" Game {} => : [ {} + {} ] VS [ {} + {} ] \".format(i + 1,one,two,three,four))\n",
    "    else:\n",
    "        print(\"Hahahaahh\")\n",
    "\n",
    "'''main programme below'''\n",
    "        \n",
    "players = [\"ABHISHEK\",\"BIJESH\",\"NAIK\",\"FRANCIS\",\"CHELAPPAN\",\"SRAVAN\",\"AKSHAY\",\"SHAIK\"]\n",
    "\n",
    "\n",
    "ch = '0'\n",
    "\n",
    "while ch != '1':\n",
    "    ch = input(\"1 Exit | 2 Add | 3 Remove | 4: Fixture | 5 Clear| 6 Display | 7 Demo \").strip()   \n",
    "    if ch == '2':\n",
    "        new_player = input(\"\\n Add new player : \").strip().upper()\n",
    "        players.append(new_player)\n",
    "        del new_player\n",
    "    elif ch == '3':\n",
    "            new_player = input(\"\\n Whom to remove :\").strip().upper()\n",
    "            if new_player in players:       \n",
    "                players.remove(new_player)\n",
    "                del new_player\n",
    "            else:\n",
    "                print(\"No players in the list\")\n",
    "            \n",
    "    elif ch == '4':\n",
    "        random.shuffle(players)\n",
    "        if len(players) > 0:\n",
    "            \n",
    "            is_singles = input(\"1 Singles | 2 Doubles :\").strip()\n",
    "            if is_singles == '1': \n",
    "                a,b = divmod(len(players),2)\n",
    "                print(\"Creating Singles Fixure\")\n",
    "                create_fix(players,1)\n",
    "            elif is_singles == '2': \n",
    "                a,b = divmod(len(players),4)\n",
    "                print(\"Creating Doubles Fixure\")\n",
    "                create_fix(players,2)\n",
    "            else:\n",
    "                print(\"Enter either 1 or 2\")\n",
    "                pass\n",
    "            del is_singles    \n",
    "        else:\n",
    "            \n",
    "            print(\"No players in the list\")\n",
    "    elif ch == '5':\n",
    "        print(\"Reset\")\n",
    "        players = []\n",
    "    elif ch == '6':\n",
    "        print(\"Display current players :\\n\")\n",
    "        print(players)\n",
    "    elif ch == '7':\n",
    "        print(\"Reload default players\")\n",
    "        players = [\"ABHISHEK\",\"BIJESH\",\"NAIK\",\"FRANCIS\",\"CHELAPPAN\",\"SRAVAN\",\"AKSHAY\",\"SHAIK\"]\n",
    "        print(players)    \n",
    "    else:\n",
    "        del players\n",
    "        ch = '1'\n",
    "\n"
   ]
  },
  {
   "cell_type": "code",
   "execution_count": null,
   "metadata": {},
   "outputs": [],
   "source": [
    "a,b = divmod(7,4)"
   ]
  },
  {
   "cell_type": "code",
   "execution_count": 15,
   "metadata": {},
   "outputs": [
    {
     "data": {
      "text/plain": [
       "3"
      ]
     },
     "execution_count": 15,
     "metadata": {},
     "output_type": "execute_result"
    }
   ],
   "source": [
    "b"
   ]
  },
  {
   "cell_type": "code",
   "execution_count": null,
   "metadata": {},
   "outputs": [],
   "source": []
  }
 ],
 "metadata": {
  "kernelspec": {
   "display_name": "Python 3",
   "language": "python",
   "name": "python3"
  },
  "language_info": {
   "codemirror_mode": {
    "name": "ipython",
    "version": 3
   },
   "file_extension": ".py",
   "mimetype": "text/x-python",
   "name": "python",
   "nbconvert_exporter": "python",
   "pygments_lexer": "ipython3",
   "version": "3.7.3"
  }
 },
 "nbformat": 4,
 "nbformat_minor": 2
}
