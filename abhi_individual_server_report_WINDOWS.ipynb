{
 "cells": [
  {
   "cell_type": "code",
   "execution_count": 3,
   "metadata": {},
   "outputs": [
    {
     "ename": "ModuleNotFoundError",
     "evalue": "No module named 'abhi_esxwin_vm'",
     "output_type": "error",
     "traceback": [
      "\u001b[1;31m---------------------------------------------------------------------------\u001b[0m",
      "\u001b[1;31mModuleNotFoundError\u001b[0m                       Traceback (most recent call last)",
      "\u001b[1;32m<ipython-input-3-b51de8e7adc6>\u001b[0m in \u001b[0;36m<module>\u001b[1;34m\u001b[0m\n\u001b[0;32m      9\u001b[0m     \u001b[0msys\u001b[0m\u001b[1;33m.\u001b[0m\u001b[0mpath\u001b[0m\u001b[1;33m.\u001b[0m\u001b[0mappend\u001b[0m\u001b[1;33m(\u001b[0m\u001b[0mos\u001b[0m\u001b[1;33m.\u001b[0m\u001b[0mgetcwd\u001b[0m\u001b[1;33m(\u001b[0m\u001b[1;33m)\u001b[0m\u001b[1;33m+\u001b[0m \u001b[1;34m\"\\project\"\u001b[0m\u001b[1;33m)\u001b[0m\u001b[1;33m\u001b[0m\u001b[0m\n\u001b[0;32m     10\u001b[0m \u001b[1;33m\u001b[0m\u001b[0m\n\u001b[1;32m---> 11\u001b[1;33m \u001b[1;32mimport\u001b[0m \u001b[0mabhi_esxwin_vm\u001b[0m\u001b[1;33m\u001b[0m\u001b[0m\n\u001b[0m\u001b[0;32m     12\u001b[0m \u001b[1;33m\u001b[0m\u001b[0m\n\u001b[0;32m     13\u001b[0m \u001b[1;31m#pp = PdfPages(server_title +'.pdf')\u001b[0m\u001b[1;33m\u001b[0m\u001b[1;33m\u001b[0m\u001b[0m\n",
      "\u001b[1;31mModuleNotFoundError\u001b[0m: No module named 'abhi_esxwin_vm'"
     ]
    }
   ],
   "source": [
    "import pandas as pd\n",
    "\n",
    "from getpass import getpass\n",
    "import matplotlib.pyplot as plt\n",
    "from matplotlib.backends.backend_pdf import PdfPages\n",
    "import sys,os\n",
    "\n",
    "if os.getcwd() not in sys.path : \n",
    "    sys.path.append(os.getcwd())\n",
    "    \n",
    "import abhi_esxwin_vm\n",
    "\n",
    "#pp = PdfPages(server_title +'.pdf')\n",
    "\n",
    "day_str = str(pd.datetime.now().date())\n",
    "finename = day_str + '_Abhisheks_wintel.pdf'\n",
    "pp = PdfPages(finename)\n",
    "\n",
    "\n",
    "def abhi_read_input_data_from_local_directory():\n",
    "    \n",
    "\n",
    "    f = open('srm_account.txt')\n",
    "    account = f.readline()\n",
    "    f.close()\n",
    "    f = open('cred.txt')\n",
    "    cred = f.readline()\n",
    "    p = getpass(\"Enter the password for {} : \".format(cred))\n",
    "    cred = cred + p\n",
    "    f.close()\n",
    "    sl = pd.read_csv(\"server_list_windows.txt\",header=None)\n",
    "    server_list= list(sl[0])\n",
    "\n",
    "    #print(\"{} , {} , {}\".format(cred,account,server_list))\n",
    "    return cred,account,server_list,sl\n",
    "\n",
    "\n",
    "\n",
    "#####--------------- Main ----------\n",
    "\n",
    "soa_url = 'https://w3-03.ibm.com/services/srm/SOA/Server?' #This works fine from desktop\n",
    "\n",
    "cred,account,servernames_list,df_server_app = abhi_read_input_data_from_local_directory()\n",
    "\n",
    "for sn in servernames_list:\n",
    "    df_last_week = abhi_esxwin_vm.read_csv_data_week(sn,cred,account,soa_url)\n",
    "    df_last_year = abhi_esxwin_vm.read_csv_data_year(sn,cred,account,soa_url)\n",
    "    \n",
    "    #print(df_last_week.info())\n",
    "        \n",
    " \n",
    "pp.close()\n",
    "print(\"Completed...Check Abhisheks.pdf in the directory\")\n",
    "\n",
    "\n"
   ]
  },
  {
   "cell_type": "code",
   "execution_count": null,
   "metadata": {},
   "outputs": [],
   "source": []
  }
 ],
 "metadata": {
  "kernelspec": {
   "display_name": "Python 3",
   "language": "python",
   "name": "python3"
  },
  "language_info": {
   "codemirror_mode": {
    "name": "ipython",
    "version": 3
   },
   "file_extension": ".py",
   "mimetype": "text/x-python",
   "name": "python",
   "nbconvert_exporter": "python",
   "pygments_lexer": "ipython3",
   "version": "3.6.1"
  }
 },
 "nbformat": 4,
 "nbformat_minor": 2
}
